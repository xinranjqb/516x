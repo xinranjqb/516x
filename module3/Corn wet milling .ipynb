{
 "cells": [
  {
   "cell_type": "markdown",
   "metadata": {},
   "source": [
    "# Corn wet milling data"
   ]
  },
  {
   "cell_type": "code",
   "execution_count": 1,
   "metadata": {},
   "outputs": [],
   "source": [
    "# imports\n",
    "import pandas as pd\n",
    "import seaborn as sns\n",
    "import statsmodels.formula.api as smf\n",
    "from sklearn.linear_model import LinearRegression\n",
    "from sklearn import metrics\n",
    "from sklearn.model_selection import train_test_split\n",
    "import numpy as np\n",
    "import matplotlib.pyplot as plt\n",
    "\n",
    "# allow plots to appear directly in the notebook\n",
    "%matplotlib inline"
   ]
  },
  {
   "cell_type": "code",
   "execution_count": 2,
   "metadata": {},
   "outputs": [],
   "source": [
    "inputd = pd.read_excel(r'S2.xlsx', sheet_name = 'Input value')"
   ]
  },
  {
   "cell_type": "code",
   "execution_count": 4,
   "metadata": {
    "scrolled": true
   },
   "outputs": [
    {
     "data": {
      "text/html": [
       "<div>\n",
       "<style scoped>\n",
       "    .dataframe tbody tr th:only-of-type {\n",
       "        vertical-align: middle;\n",
       "    }\n",
       "\n",
       "    .dataframe tbody tr th {\n",
       "        vertical-align: top;\n",
       "    }\n",
       "\n",
       "    .dataframe thead th {\n",
       "        text-align: right;\n",
       "    }\n",
       "</style>\n",
       "<table border=\"1\" class=\"dataframe\">\n",
       "  <thead>\n",
       "    <tr style=\"text-align: right;\">\n",
       "      <th></th>\n",
       "      <th>Year</th>\n",
       "      <th>Corn $/bu</th>\n",
       "      <th>Starch $/cwt</th>\n",
       "      <th>Gluten feed $/ton</th>\n",
       "      <th>Gluten meal $/ton</th>\n",
       "      <th>Natural gas $/MBTU</th>\n",
       "      <th>Electricity cents/kwh</th>\n",
       "      <th>Starch $/kg</th>\n",
       "      <th>Gluten feed $/kg</th>\n",
       "      <th>Gluten meal $/kg</th>\n",
       "      <th>Corn $/kg</th>\n",
       "      <th>Electricity $/kwh</th>\n",
       "    </tr>\n",
       "  </thead>\n",
       "  <tbody>\n",
       "    <tr>\n",
       "      <td>0</td>\n",
       "      <td>1980</td>\n",
       "      <td>3.11</td>\n",
       "      <td>13.093333</td>\n",
       "      <td>108.500000</td>\n",
       "      <td>260.000000</td>\n",
       "      <td>1.695</td>\n",
       "      <td>3.70</td>\n",
       "      <td>0.257731</td>\n",
       "      <td>0.119601</td>\n",
       "      <td>0.286601</td>\n",
       "      <td>0.122435</td>\n",
       "      <td>0.0370</td>\n",
       "    </tr>\n",
       "    <tr>\n",
       "      <td>1</td>\n",
       "      <td>1985</td>\n",
       "      <td>2.23</td>\n",
       "      <td>9.685833</td>\n",
       "      <td>86.166667</td>\n",
       "      <td>209.112500</td>\n",
       "      <td>2.750</td>\n",
       "      <td>4.97</td>\n",
       "      <td>0.190657</td>\n",
       "      <td>0.094982</td>\n",
       "      <td>0.230507</td>\n",
       "      <td>0.087791</td>\n",
       "      <td>0.0497</td>\n",
       "    </tr>\n",
       "    <tr>\n",
       "      <td>2</td>\n",
       "      <td>1990</td>\n",
       "      <td>2.28</td>\n",
       "      <td>11.019167</td>\n",
       "      <td>98.956667</td>\n",
       "      <td>241.016667</td>\n",
       "      <td>2.415</td>\n",
       "      <td>4.74</td>\n",
       "      <td>0.216903</td>\n",
       "      <td>0.109081</td>\n",
       "      <td>0.265675</td>\n",
       "      <td>0.089760</td>\n",
       "      <td>0.0474</td>\n",
       "    </tr>\n",
       "    <tr>\n",
       "      <td>3</td>\n",
       "      <td>1995</td>\n",
       "      <td>3.24</td>\n",
       "      <td>15.975000</td>\n",
       "      <td>119.312500</td>\n",
       "      <td>325.962500</td>\n",
       "      <td>3.590</td>\n",
       "      <td>4.66</td>\n",
       "      <td>0.314454</td>\n",
       "      <td>0.131519</td>\n",
       "      <td>0.359312</td>\n",
       "      <td>0.127553</td>\n",
       "      <td>0.0466</td>\n",
       "    </tr>\n",
       "    <tr>\n",
       "      <td>4</td>\n",
       "      <td>2000</td>\n",
       "      <td>1.85</td>\n",
       "      <td>12.435000</td>\n",
       "      <td>60.546667</td>\n",
       "      <td>252.021667</td>\n",
       "      <td>4.450</td>\n",
       "      <td>4.64</td>\n",
       "      <td>0.244772</td>\n",
       "      <td>0.066741</td>\n",
       "      <td>0.277806</td>\n",
       "      <td>0.072831</td>\n",
       "      <td>0.0464</td>\n",
       "    </tr>\n",
       "  </tbody>\n",
       "</table>\n",
       "</div>"
      ],
      "text/plain": [
       "   Year  Corn $/bu  Starch $/cwt  Gluten feed $/ton  Gluten meal $/ton  \\\n",
       "0  1980       3.11     13.093333         108.500000         260.000000   \n",
       "1  1985       2.23      9.685833          86.166667         209.112500   \n",
       "2  1990       2.28     11.019167          98.956667         241.016667   \n",
       "3  1995       3.24     15.975000         119.312500         325.962500   \n",
       "4  2000       1.85     12.435000          60.546667         252.021667   \n",
       "\n",
       "   Natural gas $/MBTU  Electricity cents/kwh  Starch $/kg  Gluten feed $/kg  \\\n",
       "0               1.695                   3.70     0.257731          0.119601   \n",
       "1               2.750                   4.97     0.190657          0.094982   \n",
       "2               2.415                   4.74     0.216903          0.109081   \n",
       "3               3.590                   4.66     0.314454          0.131519   \n",
       "4               4.450                   4.64     0.244772          0.066741   \n",
       "\n",
       "   Gluten meal $/kg  Corn $/kg  Electricity $/kwh  \n",
       "0          0.286601   0.122435             0.0370  \n",
       "1          0.230507   0.087791             0.0497  \n",
       "2          0.265675   0.089760             0.0474  \n",
       "3          0.359312   0.127553             0.0466  \n",
       "4          0.277806   0.072831             0.0464  "
      ]
     },
     "execution_count": 4,
     "metadata": {},
     "output_type": "execute_result"
    }
   ],
   "source": [
    "inputd.head(5)"
   ]
  },
  {
   "cell_type": "code",
   "execution_count": 4,
   "metadata": {},
   "outputs": [],
   "source": [
    "Outputd = pd.read_excel(r'S2.xlsx', sheet_name = 'Output value')"
   ]
  },
  {
   "cell_type": "code",
   "execution_count": 5,
   "metadata": {},
   "outputs": [
    {
     "data": {
      "text/html": [
       "<div>\n",
       "<style scoped>\n",
       "    .dataframe tbody tr th:only-of-type {\n",
       "        vertical-align: middle;\n",
       "    }\n",
       "\n",
       "    .dataframe tbody tr th {\n",
       "        vertical-align: top;\n",
       "    }\n",
       "\n",
       "    .dataframe thead th {\n",
       "        text-align: right;\n",
       "    }\n",
       "</style>\n",
       "<table border=\"1\" class=\"dataframe\">\n",
       "  <thead>\n",
       "    <tr style=\"text-align: right;\">\n",
       "      <th></th>\n",
       "      <th>Year</th>\n",
       "      <th>Gross Margin %</th>\n",
       "      <th>ROI %</th>\n",
       "      <th>Payback time</th>\n",
       "    </tr>\n",
       "  </thead>\n",
       "  <tbody>\n",
       "    <tr>\n",
       "      <td>0</td>\n",
       "      <td>1980</td>\n",
       "      <td>26.56</td>\n",
       "      <td>42.85</td>\n",
       "      <td>2.33</td>\n",
       "    </tr>\n",
       "    <tr>\n",
       "      <td>1</td>\n",
       "      <td>1985</td>\n",
       "      <td>26.22</td>\n",
       "      <td>35.18</td>\n",
       "      <td>2.84</td>\n",
       "    </tr>\n",
       "    <tr>\n",
       "      <td>2</td>\n",
       "      <td>1990</td>\n",
       "      <td>33.49</td>\n",
       "      <td>46.11</td>\n",
       "      <td>2.17</td>\n",
       "    </tr>\n",
       "    <tr>\n",
       "      <td>3</td>\n",
       "      <td>1995</td>\n",
       "      <td>34.76</td>\n",
       "      <td>61.08</td>\n",
       "      <td>1.64</td>\n",
       "    </tr>\n",
       "    <tr>\n",
       "      <td>4</td>\n",
       "      <td>2000</td>\n",
       "      <td>44.68</td>\n",
       "      <td>60.52</td>\n",
       "      <td>1.65</td>\n",
       "    </tr>\n",
       "    <tr>\n",
       "      <td>5</td>\n",
       "      <td>2005</td>\n",
       "      <td>37.44</td>\n",
       "      <td>51.73</td>\n",
       "      <td>1.93</td>\n",
       "    </tr>\n",
       "    <tr>\n",
       "      <td>6</td>\n",
       "      <td>2010</td>\n",
       "      <td>22.12</td>\n",
       "      <td>51.40</td>\n",
       "      <td>1.95</td>\n",
       "    </tr>\n",
       "    <tr>\n",
       "      <td>7</td>\n",
       "      <td>2015</td>\n",
       "      <td>24.88</td>\n",
       "      <td>45.26</td>\n",
       "      <td>2.21</td>\n",
       "    </tr>\n",
       "  </tbody>\n",
       "</table>\n",
       "</div>"
      ],
      "text/plain": [
       "   Year  Gross Margin %  ROI %  Payback time\n",
       "0  1980           26.56  42.85          2.33\n",
       "1  1985           26.22  35.18          2.84\n",
       "2  1990           33.49  46.11          2.17\n",
       "3  1995           34.76  61.08          1.64\n",
       "4  2000           44.68  60.52          1.65\n",
       "5  2005           37.44  51.73          1.93\n",
       "6  2010           22.12  51.40          1.95\n",
       "7  2015           24.88  45.26          2.21"
      ]
     },
     "execution_count": 5,
     "metadata": {},
     "output_type": "execute_result"
    }
   ],
   "source": [
    "Outputd"
   ]
  },
  {
   "cell_type": "code",
   "execution_count": 5,
   "metadata": {},
   "outputs": [
    {
     "data": {
      "text/plain": [
       "RangeIndex(start=0, stop=8, step=1)"
      ]
     },
     "execution_count": 5,
     "metadata": {},
     "output_type": "execute_result"
    }
   ],
   "source": [
    "inputd.index"
   ]
  },
  {
   "cell_type": "code",
   "execution_count": 6,
   "metadata": {},
   "outputs": [
    {
     "data": {
      "text/plain": [
       "Index(['Year', 'Corn $/bu', 'Starch $/cwt', 'Gluten feed $/ton',\n",
       "       'Gluten meal $/ton', 'Natural gas $/MBTU', 'Electricity cents/kwh',\n",
       "       'Starch $/kg', 'Gluten feed $/kg', 'Gluten meal $/kg', 'Corn $/kg',\n",
       "       'Electricity $/kwh'],\n",
       "      dtype='object')"
      ]
     },
     "execution_count": 6,
     "metadata": {},
     "output_type": "execute_result"
    }
   ],
   "source": [
    "inputd.columns"
   ]
  },
  {
   "cell_type": "code",
   "execution_count": null,
   "metadata": {},
   "outputs": [],
   "source": []
  },
  {
   "cell_type": "code",
   "execution_count": 6,
   "metadata": {},
   "outputs": [
    {
     "data": {
      "text/html": [
       "<div>\n",
       "<style scoped>\n",
       "    .dataframe tbody tr th:only-of-type {\n",
       "        vertical-align: middle;\n",
       "    }\n",
       "\n",
       "    .dataframe tbody tr th {\n",
       "        vertical-align: top;\n",
       "    }\n",
       "\n",
       "    .dataframe thead th {\n",
       "        text-align: right;\n",
       "    }\n",
       "</style>\n",
       "<table border=\"1\" class=\"dataframe\">\n",
       "  <thead>\n",
       "    <tr style=\"text-align: right;\">\n",
       "      <th></th>\n",
       "      <th>Year</th>\n",
       "      <th>Corn $/bu</th>\n",
       "      <th>Starch $/cwt</th>\n",
       "      <th>Gluten feed $/ton</th>\n",
       "      <th>Gluten meal $/ton</th>\n",
       "      <th>Natural gas $/MBTU</th>\n",
       "      <th>Electricity cents/kwh</th>\n",
       "      <th>Starch $/kg</th>\n",
       "      <th>Gluten feed $/kg</th>\n",
       "      <th>Gluten meal $/kg</th>\n",
       "      <th>Corn $/kg</th>\n",
       "      <th>Electricity $/kwh</th>\n",
       "      <th>Gross Margin %</th>\n",
       "      <th>ROI %</th>\n",
       "      <th>Payback time</th>\n",
       "    </tr>\n",
       "  </thead>\n",
       "  <tbody>\n",
       "    <tr>\n",
       "      <td>0</td>\n",
       "      <td>1980</td>\n",
       "      <td>3.11</td>\n",
       "      <td>13.093333</td>\n",
       "      <td>108.500000</td>\n",
       "      <td>260.000000</td>\n",
       "      <td>1.695</td>\n",
       "      <td>3.70</td>\n",
       "      <td>0.257731</td>\n",
       "      <td>0.119601</td>\n",
       "      <td>0.286601</td>\n",
       "      <td>0.122435</td>\n",
       "      <td>0.0370</td>\n",
       "      <td>26.56</td>\n",
       "      <td>42.85</td>\n",
       "      <td>2.33</td>\n",
       "    </tr>\n",
       "    <tr>\n",
       "      <td>1</td>\n",
       "      <td>1985</td>\n",
       "      <td>2.23</td>\n",
       "      <td>9.685833</td>\n",
       "      <td>86.166667</td>\n",
       "      <td>209.112500</td>\n",
       "      <td>2.750</td>\n",
       "      <td>4.97</td>\n",
       "      <td>0.190657</td>\n",
       "      <td>0.094982</td>\n",
       "      <td>0.230507</td>\n",
       "      <td>0.087791</td>\n",
       "      <td>0.0497</td>\n",
       "      <td>26.22</td>\n",
       "      <td>35.18</td>\n",
       "      <td>2.84</td>\n",
       "    </tr>\n",
       "    <tr>\n",
       "      <td>2</td>\n",
       "      <td>1990</td>\n",
       "      <td>2.28</td>\n",
       "      <td>11.019167</td>\n",
       "      <td>98.956667</td>\n",
       "      <td>241.016667</td>\n",
       "      <td>2.415</td>\n",
       "      <td>4.74</td>\n",
       "      <td>0.216903</td>\n",
       "      <td>0.109081</td>\n",
       "      <td>0.265675</td>\n",
       "      <td>0.089760</td>\n",
       "      <td>0.0474</td>\n",
       "      <td>33.49</td>\n",
       "      <td>46.11</td>\n",
       "      <td>2.17</td>\n",
       "    </tr>\n",
       "    <tr>\n",
       "      <td>3</td>\n",
       "      <td>1995</td>\n",
       "      <td>3.24</td>\n",
       "      <td>15.975000</td>\n",
       "      <td>119.312500</td>\n",
       "      <td>325.962500</td>\n",
       "      <td>3.590</td>\n",
       "      <td>4.66</td>\n",
       "      <td>0.314454</td>\n",
       "      <td>0.131519</td>\n",
       "      <td>0.359312</td>\n",
       "      <td>0.127553</td>\n",
       "      <td>0.0466</td>\n",
       "      <td>34.76</td>\n",
       "      <td>61.08</td>\n",
       "      <td>1.64</td>\n",
       "    </tr>\n",
       "    <tr>\n",
       "      <td>4</td>\n",
       "      <td>2000</td>\n",
       "      <td>1.85</td>\n",
       "      <td>12.435000</td>\n",
       "      <td>60.546667</td>\n",
       "      <td>252.021667</td>\n",
       "      <td>4.450</td>\n",
       "      <td>4.64</td>\n",
       "      <td>0.244772</td>\n",
       "      <td>0.066741</td>\n",
       "      <td>0.277806</td>\n",
       "      <td>0.072831</td>\n",
       "      <td>0.0464</td>\n",
       "      <td>44.68</td>\n",
       "      <td>60.52</td>\n",
       "      <td>1.65</td>\n",
       "    </tr>\n",
       "    <tr>\n",
       "      <td>5</td>\n",
       "      <td>2005</td>\n",
       "      <td>2.00</td>\n",
       "      <td>12.175000</td>\n",
       "      <td>56.179167</td>\n",
       "      <td>268.725833</td>\n",
       "      <td>8.560</td>\n",
       "      <td>5.73</td>\n",
       "      <td>0.239655</td>\n",
       "      <td>0.061927</td>\n",
       "      <td>0.296219</td>\n",
       "      <td>0.078736</td>\n",
       "      <td>0.0573</td>\n",
       "      <td>37.44</td>\n",
       "      <td>51.73</td>\n",
       "      <td>1.93</td>\n",
       "    </tr>\n",
       "    <tr>\n",
       "      <td>6</td>\n",
       "      <td>2010</td>\n",
       "      <td>5.18</td>\n",
       "      <td>20.160000</td>\n",
       "      <td>149.087500</td>\n",
       "      <td>540.551667</td>\n",
       "      <td>5.490</td>\n",
       "      <td>6.77</td>\n",
       "      <td>0.396832</td>\n",
       "      <td>0.164341</td>\n",
       "      <td>0.595856</td>\n",
       "      <td>0.203927</td>\n",
       "      <td>0.0677</td>\n",
       "      <td>22.12</td>\n",
       "      <td>51.40</td>\n",
       "      <td>1.95</td>\n",
       "    </tr>\n",
       "    <tr>\n",
       "      <td>7</td>\n",
       "      <td>2015</td>\n",
       "      <td>3.61</td>\n",
       "      <td>14.682500</td>\n",
       "      <td>96.320000</td>\n",
       "      <td>486.714167</td>\n",
       "      <td>3.930</td>\n",
       "      <td>6.91</td>\n",
       "      <td>0.289013</td>\n",
       "      <td>0.106175</td>\n",
       "      <td>0.536510</td>\n",
       "      <td>0.142119</td>\n",
       "      <td>0.0691</td>\n",
       "      <td>24.88</td>\n",
       "      <td>45.26</td>\n",
       "      <td>2.21</td>\n",
       "    </tr>\n",
       "  </tbody>\n",
       "</table>\n",
       "</div>"
      ],
      "text/plain": [
       "   Year  Corn $/bu  Starch $/cwt  Gluten feed $/ton  Gluten meal $/ton  \\\n",
       "0  1980       3.11     13.093333         108.500000         260.000000   \n",
       "1  1985       2.23      9.685833          86.166667         209.112500   \n",
       "2  1990       2.28     11.019167          98.956667         241.016667   \n",
       "3  1995       3.24     15.975000         119.312500         325.962500   \n",
       "4  2000       1.85     12.435000          60.546667         252.021667   \n",
       "5  2005       2.00     12.175000          56.179167         268.725833   \n",
       "6  2010       5.18     20.160000         149.087500         540.551667   \n",
       "7  2015       3.61     14.682500          96.320000         486.714167   \n",
       "\n",
       "   Natural gas $/MBTU  Electricity cents/kwh  Starch $/kg  Gluten feed $/kg  \\\n",
       "0               1.695                   3.70     0.257731          0.119601   \n",
       "1               2.750                   4.97     0.190657          0.094982   \n",
       "2               2.415                   4.74     0.216903          0.109081   \n",
       "3               3.590                   4.66     0.314454          0.131519   \n",
       "4               4.450                   4.64     0.244772          0.066741   \n",
       "5               8.560                   5.73     0.239655          0.061927   \n",
       "6               5.490                   6.77     0.396832          0.164341   \n",
       "7               3.930                   6.91     0.289013          0.106175   \n",
       "\n",
       "   Gluten meal $/kg  Corn $/kg  Electricity $/kwh  Gross Margin %  ROI %  \\\n",
       "0          0.286601   0.122435             0.0370           26.56  42.85   \n",
       "1          0.230507   0.087791             0.0497           26.22  35.18   \n",
       "2          0.265675   0.089760             0.0474           33.49  46.11   \n",
       "3          0.359312   0.127553             0.0466           34.76  61.08   \n",
       "4          0.277806   0.072831             0.0464           44.68  60.52   \n",
       "5          0.296219   0.078736             0.0573           37.44  51.73   \n",
       "6          0.595856   0.203927             0.0677           22.12  51.40   \n",
       "7          0.536510   0.142119             0.0691           24.88  45.26   \n",
       "\n",
       "   Payback time  \n",
       "0          2.33  \n",
       "1          2.84  \n",
       "2          2.17  \n",
       "3          1.64  \n",
       "4          1.65  \n",
       "5          1.93  \n",
       "6          1.95  \n",
       "7          2.21  "
      ]
     },
     "metadata": {},
     "output_type": "display_data"
    },
    {
     "data": {
      "text/plain": [
       "Index(['Year', 'Corn $/bu', 'Starch $/cwt', 'Gluten feed $/ton',\n",
       "       'Gluten meal $/ton', 'Natural gas $/MBTU', 'Electricity cents/kwh',\n",
       "       'Starch $/kg', 'Gluten feed $/kg', 'Gluten meal $/kg', 'Corn $/kg',\n",
       "       'Electricity $/kwh', 'Gross Margin %', 'ROI %', 'Payback time'],\n",
       "      dtype='object')"
      ]
     },
     "execution_count": 6,
     "metadata": {},
     "output_type": "execute_result"
    }
   ],
   "source": [
    "df = pd.merge(inputd, Outputd)\n",
    "display(df)\n",
    "df.columns"
   ]
  },
  {
   "cell_type": "code",
   "execution_count": 39,
   "metadata": {
    "scrolled": true
   },
   "outputs": [
    {
     "data": {
      "text/html": [
       "<div>\n",
       "<style scoped>\n",
       "    .dataframe tbody tr th:only-of-type {\n",
       "        vertical-align: middle;\n",
       "    }\n",
       "\n",
       "    .dataframe tbody tr th {\n",
       "        vertical-align: top;\n",
       "    }\n",
       "\n",
       "    .dataframe thead th {\n",
       "        text-align: right;\n",
       "    }\n",
       "</style>\n",
       "<table border=\"1\" class=\"dataframe\">\n",
       "  <thead>\n",
       "    <tr style=\"text-align: right;\">\n",
       "      <th></th>\n",
       "      <th>Corn_dollar_kg</th>\n",
       "      <th>Natural_gas_dollar_MBTU</th>\n",
       "      <th>Electricity_dollar_kwh</th>\n",
       "      <th>Starch_dollar_kg</th>\n",
       "      <th>Gluten_feed_dollar_kg</th>\n",
       "      <th>Gluten_meal_dollar_kg</th>\n",
       "      <th>Gross_Margin_percent</th>\n",
       "      <th>ROI_percent</th>\n",
       "      <th>Payback_time</th>\n",
       "    </tr>\n",
       "  </thead>\n",
       "  <tbody>\n",
       "    <tr>\n",
       "      <td>Corn_dollar_kg</td>\n",
       "      <td>1.000000</td>\n",
       "      <td>-0.003893</td>\n",
       "      <td>0.556241</td>\n",
       "      <td>0.908547</td>\n",
       "      <td>0.888462</td>\n",
       "      <td>0.891899</td>\n",
       "      <td>-0.723812</td>\n",
       "      <td>0.030029</td>\n",
       "      <td>-0.092684</td>\n",
       "    </tr>\n",
       "    <tr>\n",
       "      <td>Natural_gas_dollar_MBTU</td>\n",
       "      <td>-0.003893</td>\n",
       "      <td>1.000000</td>\n",
       "      <td>0.533392</td>\n",
       "      <td>0.237777</td>\n",
       "      <td>-0.326468</td>\n",
       "      <td>0.241785</td>\n",
       "      <td>0.287820</td>\n",
       "      <td>0.392924</td>\n",
       "      <td>-0.433431</td>\n",
       "    </tr>\n",
       "    <tr>\n",
       "      <td>Electricity_dollar_kwh</td>\n",
       "      <td>0.556241</td>\n",
       "      <td>0.533392</td>\n",
       "      <td>1.000000</td>\n",
       "      <td>0.528535</td>\n",
       "      <td>0.217581</td>\n",
       "      <td>0.820122</td>\n",
       "      <td>-0.405441</td>\n",
       "      <td>-0.008131</td>\n",
       "      <td>-0.058248</td>\n",
       "    </tr>\n",
       "    <tr>\n",
       "      <td>Starch_dollar_kg</td>\n",
       "      <td>0.908547</td>\n",
       "      <td>0.237777</td>\n",
       "      <td>0.528535</td>\n",
       "      <td>1.000000</td>\n",
       "      <td>0.753667</td>\n",
       "      <td>0.871006</td>\n",
       "      <td>-0.380189</td>\n",
       "      <td>0.433159</td>\n",
       "      <td>-0.484760</td>\n",
       "    </tr>\n",
       "    <tr>\n",
       "      <td>Gluten_feed_dollar_kg</td>\n",
       "      <td>0.888462</td>\n",
       "      <td>-0.326468</td>\n",
       "      <td>0.217581</td>\n",
       "      <td>0.753667</td>\n",
       "      <td>1.000000</td>\n",
       "      <td>0.628829</td>\n",
       "      <td>-0.696808</td>\n",
       "      <td>-0.032432</td>\n",
       "      <td>-0.000624</td>\n",
       "    </tr>\n",
       "    <tr>\n",
       "      <td>Gluten_meal_dollar_kg</td>\n",
       "      <td>0.891899</td>\n",
       "      <td>0.241785</td>\n",
       "      <td>0.820122</td>\n",
       "      <td>0.871006</td>\n",
       "      <td>0.628829</td>\n",
       "      <td>1.000000</td>\n",
       "      <td>-0.552022</td>\n",
       "      <td>0.155519</td>\n",
       "      <td>-0.234447</td>\n",
       "    </tr>\n",
       "    <tr>\n",
       "      <td>Gross_Margin_percent</td>\n",
       "      <td>-0.723812</td>\n",
       "      <td>0.287820</td>\n",
       "      <td>-0.405441</td>\n",
       "      <td>-0.380189</td>\n",
       "      <td>-0.696808</td>\n",
       "      <td>-0.552022</td>\n",
       "      <td>1.000000</td>\n",
       "      <td>0.654820</td>\n",
       "      <td>-0.604200</td>\n",
       "    </tr>\n",
       "    <tr>\n",
       "      <td>ROI_percent</td>\n",
       "      <td>0.030029</td>\n",
       "      <td>0.392924</td>\n",
       "      <td>-0.008131</td>\n",
       "      <td>0.433159</td>\n",
       "      <td>-0.032432</td>\n",
       "      <td>0.155519</td>\n",
       "      <td>0.654820</td>\n",
       "      <td>1.000000</td>\n",
       "      <td>-0.982252</td>\n",
       "    </tr>\n",
       "    <tr>\n",
       "      <td>Payback_time</td>\n",
       "      <td>-0.092684</td>\n",
       "      <td>-0.433431</td>\n",
       "      <td>-0.058248</td>\n",
       "      <td>-0.484760</td>\n",
       "      <td>-0.000624</td>\n",
       "      <td>-0.234447</td>\n",
       "      <td>-0.604200</td>\n",
       "      <td>-0.982252</td>\n",
       "      <td>1.000000</td>\n",
       "    </tr>\n",
       "  </tbody>\n",
       "</table>\n",
       "</div>"
      ],
      "text/plain": [
       "                         Corn_dollar_kg  Natural_gas_dollar_MBTU  \\\n",
       "Corn_dollar_kg                 1.000000                -0.003893   \n",
       "Natural_gas_dollar_MBTU       -0.003893                 1.000000   \n",
       "Electricity_dollar_kwh         0.556241                 0.533392   \n",
       "Starch_dollar_kg               0.908547                 0.237777   \n",
       "Gluten_feed_dollar_kg          0.888462                -0.326468   \n",
       "Gluten_meal_dollar_kg          0.891899                 0.241785   \n",
       "Gross_Margin_percent          -0.723812                 0.287820   \n",
       "ROI_percent                    0.030029                 0.392924   \n",
       "Payback_time                  -0.092684                -0.433431   \n",
       "\n",
       "                         Electricity_dollar_kwh  Starch_dollar_kg  \\\n",
       "Corn_dollar_kg                         0.556241          0.908547   \n",
       "Natural_gas_dollar_MBTU                0.533392          0.237777   \n",
       "Electricity_dollar_kwh                 1.000000          0.528535   \n",
       "Starch_dollar_kg                       0.528535          1.000000   \n",
       "Gluten_feed_dollar_kg                  0.217581          0.753667   \n",
       "Gluten_meal_dollar_kg                  0.820122          0.871006   \n",
       "Gross_Margin_percent                  -0.405441         -0.380189   \n",
       "ROI_percent                           -0.008131          0.433159   \n",
       "Payback_time                          -0.058248         -0.484760   \n",
       "\n",
       "                         Gluten_feed_dollar_kg  Gluten_meal_dollar_kg  \\\n",
       "Corn_dollar_kg                        0.888462               0.891899   \n",
       "Natural_gas_dollar_MBTU              -0.326468               0.241785   \n",
       "Electricity_dollar_kwh                0.217581               0.820122   \n",
       "Starch_dollar_kg                      0.753667               0.871006   \n",
       "Gluten_feed_dollar_kg                 1.000000               0.628829   \n",
       "Gluten_meal_dollar_kg                 0.628829               1.000000   \n",
       "Gross_Margin_percent                 -0.696808              -0.552022   \n",
       "ROI_percent                          -0.032432               0.155519   \n",
       "Payback_time                         -0.000624              -0.234447   \n",
       "\n",
       "                         Gross_Margin_percent  ROI_percent  Payback_time  \n",
       "Corn_dollar_kg                      -0.723812     0.030029     -0.092684  \n",
       "Natural_gas_dollar_MBTU              0.287820     0.392924     -0.433431  \n",
       "Electricity_dollar_kwh              -0.405441    -0.008131     -0.058248  \n",
       "Starch_dollar_kg                    -0.380189     0.433159     -0.484760  \n",
       "Gluten_feed_dollar_kg               -0.696808    -0.032432     -0.000624  \n",
       "Gluten_meal_dollar_kg               -0.552022     0.155519     -0.234447  \n",
       "Gross_Margin_percent                 1.000000     0.654820     -0.604200  \n",
       "ROI_percent                          0.654820     1.000000     -0.982252  \n",
       "Payback_time                        -0.604200    -0.982252      1.000000  "
      ]
     },
     "execution_count": 39,
     "metadata": {},
     "output_type": "execute_result"
    }
   ],
   "source": [
    "df1 = df.loc[:,['Corn $/kg','Natural gas $/MBTU','Electricity $/kwh','Starch $/kg','Gluten feed $/kg', 'Gluten meal $/kg', 'Gross Margin %', 'ROI %', 'Payback time']]\n",
    "df1 #subset the input and output value\n",
    "df1.columns = df1.columns.str.replace(' ', '_')\n",
    "df1.columns = df1.columns.str.replace('/', '_')\n",
    "df1.columns = df1.columns.str.replace('$', 'dollar')\n",
    "df1.columns = df1.columns.str.replace('%', 'percent')\n",
    "corr = df1.corr(method = 'pearson')\n",
    "corr"
   ]
  },
  {
   "cell_type": "code",
   "execution_count": 40,
   "metadata": {},
   "outputs": [
    {
     "data": {
      "text/plain": [
       "<matplotlib.axes._subplots.AxesSubplot at 0x1270b2ed0>"
      ]
     },
     "execution_count": 40,
     "metadata": {},
     "output_type": "execute_result"
    },
    {
     "data": {
      "image/png": "[encoded data removed]",
      "text/plain": [
       "<Figure size 432x288 with 2 Axes>"
      ]
     },
     "metadata": {
      "needs_background": "light"
     },
     "output_type": "display_data"
    }
   ],
   "source": [
    "sns.heatmap(corr, cmap = 'PiYG')"
   ]
  },
  {
   "cell_type": "code",
   "execution_count": 9,
   "metadata": {},
   "outputs": [
    {
     "data": {
      "text/plain": [
       "<seaborn.axisgrid.PairGrid at 0x123d80a10>"
      ]
     },
     "execution_count": 9,
     "metadata": {},
     "output_type": "execute_result"
    },
    {
     "data": {
      "image/png": "[encoded data removed]",
      "text/plain": [
       "<Figure size 972x360 with 3 Axes>"
      ]
     },
     "metadata": {
      "needs_background": "light"
     },
     "output_type": "display_data"
    }
   ],
   "source": [
    "sns.pairplot(df, x_vars = ['Corn $/kg','Electricity $/kwh','Natural gas $/MBTU'], y_vars = 'Gross Margin %',height = 5, aspect=0.9)"
   ]
  },
  {
   "cell_type": "code",
   "execution_count": 10,
   "metadata": {},
   "outputs": [
    {
     "data": {
      "text/plain": [
       "<seaborn.axisgrid.PairGrid at 0x1241ae350>"
      ]
     },
     "execution_count": 10,
     "metadata": {},
     "output_type": "execute_result"
    },
    {
     "data": {
      "image/png": "[encoded data removed]",
      "text/plain": [
       "<Figure size 972x360 with 3 Axes>"
      ]
     },
     "metadata": {
      "needs_background": "light"
     },
     "output_type": "display_data"
    }
   ],
   "source": [
    "sns.pairplot(df, x_vars = ['Starch $/kg','Gluten feed $/kg','Gluten meal $/kg'], y_vars = 'Gross Margin %',height = 5, aspect=0.9)"
   ]
  },
  {
   "cell_type": "code",
   "execution_count": 11,
   "metadata": {},
   "outputs": [
    {
     "data": {
      "text/plain": [
       "<seaborn.axisgrid.PairGrid at 0x123d53f10>"
      ]
     },
     "execution_count": 11,
     "metadata": {},
     "output_type": "execute_result"
    },
    {
     "data": {
      "image/png": "[encoded data removed]",
      "text/plain": [
       "<Figure size 972x360 with 3 Axes>"
      ]
     },
     "metadata": {
      "needs_background": "light"
     },
     "output_type": "display_data"
    }
   ],
   "source": [
    "sns.pairplot(df, x_vars = ['Corn $/kg','Electricity $/kwh','Natural gas $/MBTU'], y_vars = 'ROI %',height = 5, aspect=0.9)"
   ]
  },
  {
   "cell_type": "code",
   "execution_count": 12,
   "metadata": {},
   "outputs": [
    {
     "data": {
      "text/plain": [
       "<seaborn.axisgrid.PairGrid at 0x1249785d0>"
      ]
     },
     "execution_count": 12,
     "metadata": {},
     "output_type": "execute_result"
    },
    {
     "data": {
      "image/png": "[encoded data removed]",
      "text/plain": [
       "<Figure size 972x360 with 3 Axes>"
      ]
     },
     "metadata": {
      "needs_background": "light"
     },
     "output_type": "display_data"
    }
   ],
   "source": [
    "sns.pairplot(df, x_vars = ['Starch $/kg','Gluten feed $/kg','Gluten meal $/kg'], y_vars = 'ROI %',height = 5, aspect=0.9)"
   ]
  },
  {
   "cell_type": "code",
   "execution_count": 13,
   "metadata": {},
   "outputs": [
    {
     "data": {
      "text/plain": [
       "<seaborn.axisgrid.PairGrid at 0x124d4df10>"
      ]
     },
     "execution_count": 13,
     "metadata": {},
     "output_type": "execute_result"
    },
    {
     "data": {
      "image/png": "[encoded data removed]",
      "text/plain": [
       "<Figure size 972x360 with 3 Axes>"
      ]
     },
     "metadata": {
      "needs_background": "light"
     },
     "output_type": "display_data"
    }
   ],
   "source": [
    "sns.pairplot(df, x_vars = ['Corn $/kg','Electricity $/kwh','Natural gas $/MBTU'], y_vars = 'Payback time',height = 5, aspect=0.9)"
   ]
  },
  {
   "cell_type": "code",
   "execution_count": 14,
   "metadata": {},
   "outputs": [
    {
     "data": {
      "text/plain": [
       "<seaborn.axisgrid.PairGrid at 0x12517fbd0>"
      ]
     },
     "execution_count": 14,
     "metadata": {},
     "output_type": "execute_result"
    },
    {
     "data": {
      "image/png": "[encoded data removed]",
      "text/plain": [
       "<Figure size 972x360 with 3 Axes>"
      ]
     },
     "metadata": {
      "needs_background": "light"
     },
     "output_type": "display_data"
    }
   ],
   "source": [
    "sns.pairplot(df, x_vars = ['Starch $/kg','Gluten feed $/kg','Gluten meal $/kg'], y_vars = 'Payback time',height = 5, aspect=0.9)"
   ]
  },
  {
   "cell_type": "code",
   "execution_count": 15,
   "metadata": {},
   "outputs": [
    {
     "data": {
      "text/plain": [
       "<Figure size 720x576 with 0 Axes>"
      ]
     },
     "execution_count": 15,
     "metadata": {},
     "output_type": "execute_result"
    },
    {
     "data": {
      "image/png": "[encoded data removed]",
      "text/plain": [
       "<Figure size 432x288 with 1 Axes>"
      ]
     },
     "metadata": {
      "needs_background": "light"
     },
     "output_type": "display_data"
    },
    {
     "data": {
      "text/plain": [
       "<Figure size 720x576 with 0 Axes>"
      ]
     },
     "metadata": {},
     "output_type": "display_data"
    }
   ],
   "source": [
    "plt.plot( 'Year', 'Corn $/kg', data=df, marker='o', color='b', linewidth=2)\n",
    "plt.plot( 'Year', 'Electricity $/kwh', data=df, marker='+', color='olive', linewidth=2)\n",
    "plt.plot( df['Year'],df['Natural gas $/MBTU']/10, marker='', color='yellow', linewidth=2, linestyle='dashed', label = 'Natural gas $/MBTU *10')\n",
    "plt.plot( 'Year', 'Starch $/kg', data=df, marker='.', color='red', linewidth=2, linestyle='dashed')\n",
    "plt.plot( 'Year', 'Gluten feed $/kg', data=df, marker='<', color='pink', linewidth=2, linestyle='dashed')\n",
    "plt.plot( 'Year', 'Gluten meal $/kg', data=df, marker='>', color='green', linewidth=2, linestyle='dashed')\n",
    "#plt.plot( 'Year', 'Gross Margin %', data=df, marker='', color='olive', linewidth=2, linestyle='dashed')\n",
    "#plt.plot( 'Year', 'ROI %', data=df, marker='', color='olive', linewidth=2, linestyle='dashed')\n",
    "#plt.plot( 'Year', 'Payback time', data=df, marker='', color='purple', linewidth=2, linestyle='dashed')\n",
    "plt.legend()\n",
    "plt.figure(figsize=(10,8))"
   ]
  },
  {
   "cell_type": "code",
   "execution_count": 16,
   "metadata": {},
   "outputs": [
    {
     "data": {
      "text/plain": [
       "<matplotlib.legend.Legend at 0x1257019d0>"
      ]
     },
     "execution_count": 16,
     "metadata": {},
     "output_type": "execute_result"
    },
    {
     "data": {
      "image/png": "[encoded data removed]",
      "text/plain": [
       "<Figure size 432x288 with 1 Axes>"
      ]
     },
     "metadata": {
      "needs_background": "light"
     },
     "output_type": "display_data"
    }
   ],
   "source": [
    "plt.plot( 'Year', 'Gross Margin %', data=df, marker='', color='green', linewidth=2, linestyle='dashed')\n",
    "plt.plot( 'Year', 'ROI %', data=df, marker='', color='b', linewidth=2, linestyle='dashed')\n",
    "plt.plot( df['Year'],df['Payback time']*10, marker='', color='r', linewidth=2, linestyle='dashed', label= 'Payback time/10')\n",
    "plt.legend()"
   ]
  },
  {
   "cell_type": "code",
   "execution_count": 43,
   "metadata": {},
   "outputs": [],
   "source": [
    "from statsmodels.formula.api import ols\n",
    "model = ols(\"Gross_Margin_percent ~ Corn_dollar_kg+Natural_gas_dollar_MBTU+Electricity_dollar_kwh\", df1).fit()"
   ]
  },
  {
   "cell_type": "code",
   "execution_count": 44,
   "metadata": {},
   "outputs": [
    {
     "data": {
      "text/html": [
       "<table class=\"simpletable\">\n",
       "<caption>OLS Regression Results</caption>\n",
       "<tr>\n",
       "  <th>Dep. Variable:</th>    <td>Gross_Margin_percent</td> <th>  R-squared:         </th> <td>   0.665</td>\n",
       "</tr>\n",
       "<tr>\n",
       "  <th>Model:</th>                     <td>OLS</td>         <th>  Adj. R-squared:    </th> <td>   0.414</td>\n",
       "</tr>\n",
       "<tr>\n",
       "  <th>Method:</th>               <td>Least Squares</td>    <th>  F-statistic:       </th> <td>   2.647</td>\n",
       "</tr>\n",
       "<tr>\n",
       "  <th>Date:</th>               <td>Sat, 07 Dec 2019</td>   <th>  Prob (F-statistic):</th>  <td> 0.185</td> \n",
       "</tr>\n",
       "<tr>\n",
       "  <th>Time:</th>                   <td>22:49:52</td>       <th>  Log-Likelihood:    </th> <td> -22.697</td>\n",
       "</tr>\n",
       "<tr>\n",
       "  <th>No. Observations:</th>        <td>     8</td>        <th>  AIC:               </th> <td>   53.39</td>\n",
       "</tr>\n",
       "<tr>\n",
       "  <th>Df Residuals:</th>            <td>     4</td>        <th>  BIC:               </th> <td>   53.71</td>\n",
       "</tr>\n",
       "<tr>\n",
       "  <th>Df Model:</th>                <td>     3</td>        <th>                     </th>     <td> </td>   \n",
       "</tr>\n",
       "<tr>\n",
       "  <th>Covariance Type:</th>        <td>nonrobust</td>      <th>                     </th>     <td> </td>   \n",
       "</tr>\n",
       "</table>\n",
       "<table class=\"simpletable\">\n",
       "<tr>\n",
       "             <td></td>                <th>coef</th>     <th>std err</th>      <th>t</th>      <th>P>|t|</th>  <th>[0.025</th>    <th>0.975]</th>  \n",
       "</tr>\n",
       "<tr>\n",
       "  <th>Intercept</th>               <td>   48.2325</td> <td>   10.733</td> <td>    4.494</td> <td> 0.011</td> <td>   18.432</td> <td>   78.033</td>\n",
       "</tr>\n",
       "<tr>\n",
       "  <th>Corn_dollar_kg</th>          <td>  -88.7663</td> <td>   67.353</td> <td>   -1.318</td> <td> 0.258</td> <td> -275.767</td> <td>   98.234</td>\n",
       "</tr>\n",
       "<tr>\n",
       "  <th>Natural_gas_dollar_MBTU</th> <td>    1.7340</td> <td>    1.336</td> <td>    1.298</td> <td> 0.264</td> <td>   -1.976</td> <td>    5.444</td>\n",
       "</tr>\n",
       "<tr>\n",
       "  <th>Electricity_dollar_kwh</th>  <td> -262.5895</td> <td>  310.608</td> <td>   -0.845</td> <td> 0.445</td> <td>-1124.976</td> <td>  599.797</td>\n",
       "</tr>\n",
       "</table>\n",
       "<table class=\"simpletable\">\n",
       "<tr>\n",
       "  <th>Omnibus:</th>       <td> 0.223</td> <th>  Durbin-Watson:     </th> <td>   1.556</td>\n",
       "</tr>\n",
       "<tr>\n",
       "  <th>Prob(Omnibus):</th> <td> 0.895</td> <th>  Jarque-Bera (JB):  </th> <td>   0.359</td>\n",
       "</tr>\n",
       "<tr>\n",
       "  <th>Skew:</th>          <td> 0.252</td> <th>  Prob(JB):          </th> <td>   0.836</td>\n",
       "</tr>\n",
       "<tr>\n",
       "  <th>Kurtosis:</th>      <td> 2.092</td> <th>  Cond. No.          </th> <td>    710.</td>\n",
       "</tr>\n",
       "</table><br/><br/>Warnings:<br/>[1] Standard Errors assume that the covariance matrix of the errors is correctly specified."
      ],
      "text/plain": [
       "<class 'statsmodels.iolib.summary.Summary'>\n",
       "\"\"\"\n",
       "                             OLS Regression Results                             \n",
       "================================================================================\n",
       "Dep. Variable:     Gross_Margin_percent   R-squared:                       0.665\n",
       "Model:                              OLS   Adj. R-squared:                  0.414\n",
       "Method:                   Least Squares   F-statistic:                     2.647\n",
       "Date:                  Sat, 07 Dec 2019   Prob (F-statistic):              0.185\n",
       "Time:                          22:49:52   Log-Likelihood:                -22.697\n",
       "No. Observations:                     8   AIC:                             53.39\n",
       "Df Residuals:                         4   BIC:                             53.71\n",
       "Df Model:                             3                                         \n",
       "Covariance Type:              nonrobust                                         \n",
       "===========================================================================================\n",
       "                              coef    std err          t      P>|t|      [0.025      0.975]\n",
       "-------------------------------------------------------------------------------------------\n",
       "Intercept                  48.2325     10.733      4.494      0.011      18.432      78.033\n",
       "Corn_dollar_kg            -88.7663     67.353     -1.318      0.258    -275.767      98.234\n",
       "Natural_gas_dollar_MBTU     1.7340      1.336      1.298      0.264      -1.976       5.444\n",
       "Electricity_dollar_kwh   -262.5895    310.608     -0.845      0.445   -1124.976     599.797\n",
       "==============================================================================\n",
       "Omnibus:                        0.223   Durbin-Watson:                   1.556\n",
       "Prob(Omnibus):                  0.895   Jarque-Bera (JB):                0.359\n",
       "Skew:                           0.252   Prob(JB):                        0.836\n",
       "Kurtosis:                       2.092   Cond. No.                         710.\n",
       "==============================================================================\n",
       "\n",
       "Warnings:\n",
       "[1] Standard Errors assume that the covariance matrix of the errors is correctly specified.\n",
       "\"\"\""
      ]
     },
     "execution_count": 44,
     "metadata": {},
     "output_type": "execute_result"
    }
   ],
   "source": [
    "model.summary()"
   ]
  },
  {
   "cell_type": "code",
   "execution_count": null,
   "metadata": {},
   "outputs": [],
   "source": []
  }
 ],
 "metadata": {
  "kernelspec": {
   "display_name": "Python 3",
   "language": "python",
   "name": "python3"
  },
  "language_info": {
   "codemirror_mode": {
    "name": "ipython",
    "version": 3
   },
   "file_extension": ".py",
   "mimetype": "text/x-python",
   "name": "python",
   "nbconvert_exporter": "python",
   "pygments_lexer": "ipython3",
   "version": "3.7.4"
  }
 },
 "nbformat": 4,
 "nbformat_minor": 2
}
