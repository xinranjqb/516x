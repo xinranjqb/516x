{
 "cells": [
  {
   "cell_type": "markdown",
   "metadata": {},
   "source": [
    "# Corn wet milling data"
   ]
  },
  {
   "cell_type": "code",
   "execution_count": 2,
   "metadata": {},
   "outputs": [],
   "source": [
    "# imports\n",
    "import pandas as pd\n",
    "import seaborn as sns\n",
    "import statsmodels.formula.api as smf\n",
    "from sklearn.linear_model import LinearRegression\n",
    "from sklearn import metrics\n",
    "from sklearn.model_selection import train_test_split\n",
    "import numpy as np\n",
    "import matplotlib.pyplot as plt\n",
    "\n",
    "# allow plots to appear directly in the notebook\n",
    "%matplotlib inline"
   ]
  },
  {
   "cell_type": "code",
   "execution_count": 8,
   "metadata": {},
   "outputs": [],
   "source": [
    "inputd = pd.read_excel(r'S2.xlsx', sheet_name = 'Input value')"
   ]
  },
  {
   "cell_type": "code",
   "execution_count": 9,
   "metadata": {},
   "outputs": [
    {
     "data": {
      "text/html": [
       "<div>\n",
       "<style scoped>\n",
       "    .dataframe tbody tr th:only-of-type {\n",
       "        vertical-align: middle;\n",
       "    }\n",
       "\n",
       "    .dataframe tbody tr th {\n",
       "        vertical-align: top;\n",
       "    }\n",
       "\n",
       "    .dataframe thead th {\n",
       "        text-align: right;\n",
       "    }\n",
       "</style>\n",
       "<table border=\"1\" class=\"dataframe\">\n",
       "  <thead>\n",
       "    <tr style=\"text-align: right;\">\n",
       "      <th></th>\n",
       "      <th>Year</th>\n",
       "      <th>Corn $/bu</th>\n",
       "      <th>Starch $/cwt</th>\n",
       "      <th>Gluten feed $/ton</th>\n",
       "      <th>Gluten meal $/ton</th>\n",
       "      <th>Natural gas $/MBTU</th>\n",
       "      <th>Electricity cents/kwh</th>\n",
       "      <th>Starch $/kg</th>\n",
       "      <th>Gluten feed $/kg</th>\n",
       "      <th>Gluten meal $/ton.1</th>\n",
       "      <th>Corn $/kg</th>\n",
       "      <th>Electricity $/kwh</th>\n",
       "    </tr>\n",
       "  </thead>\n",
       "  <tbody>\n",
       "    <tr>\n",
       "      <td>0</td>\n",
       "      <td>1980</td>\n",
       "      <td>3.11</td>\n",
       "      <td>13.093333</td>\n",
       "      <td>108.500000</td>\n",
       "      <td>260.000000</td>\n",
       "      <td>1.695</td>\n",
       "      <td>3.70</td>\n",
       "      <td>0.257731</td>\n",
       "      <td>0.119601</td>\n",
       "      <td>0.286601</td>\n",
       "      <td>0.122435</td>\n",
       "      <td>0.0370</td>\n",
       "    </tr>\n",
       "    <tr>\n",
       "      <td>1</td>\n",
       "      <td>1985</td>\n",
       "      <td>2.23</td>\n",
       "      <td>9.685833</td>\n",
       "      <td>86.166667</td>\n",
       "      <td>209.112500</td>\n",
       "      <td>2.750</td>\n",
       "      <td>4.97</td>\n",
       "      <td>0.190657</td>\n",
       "      <td>0.094982</td>\n",
       "      <td>0.230507</td>\n",
       "      <td>0.087791</td>\n",
       "      <td>0.0497</td>\n",
       "    </tr>\n",
       "    <tr>\n",
       "      <td>2</td>\n",
       "      <td>1990</td>\n",
       "      <td>2.28</td>\n",
       "      <td>11.019167</td>\n",
       "      <td>98.956667</td>\n",
       "      <td>241.016667</td>\n",
       "      <td>2.415</td>\n",
       "      <td>4.74</td>\n",
       "      <td>0.216903</td>\n",
       "      <td>0.109081</td>\n",
       "      <td>0.265675</td>\n",
       "      <td>0.089760</td>\n",
       "      <td>0.0474</td>\n",
       "    </tr>\n",
       "    <tr>\n",
       "      <td>3</td>\n",
       "      <td>1995</td>\n",
       "      <td>3.24</td>\n",
       "      <td>15.975000</td>\n",
       "      <td>119.312500</td>\n",
       "      <td>325.962500</td>\n",
       "      <td>3.590</td>\n",
       "      <td>4.66</td>\n",
       "      <td>0.314454</td>\n",
       "      <td>0.131519</td>\n",
       "      <td>0.359312</td>\n",
       "      <td>0.127553</td>\n",
       "      <td>0.0466</td>\n",
       "    </tr>\n",
       "    <tr>\n",
       "      <td>4</td>\n",
       "      <td>2000</td>\n",
       "      <td>1.85</td>\n",
       "      <td>12.435000</td>\n",
       "      <td>60.546667</td>\n",
       "      <td>252.021667</td>\n",
       "      <td>4.450</td>\n",
       "      <td>4.64</td>\n",
       "      <td>0.244772</td>\n",
       "      <td>0.066741</td>\n",
       "      <td>0.277806</td>\n",
       "      <td>0.072831</td>\n",
       "      <td>0.0464</td>\n",
       "    </tr>\n",
       "    <tr>\n",
       "      <td>5</td>\n",
       "      <td>2005</td>\n",
       "      <td>2.00</td>\n",
       "      <td>12.175000</td>\n",
       "      <td>56.179167</td>\n",
       "      <td>268.725833</td>\n",
       "      <td>8.560</td>\n",
       "      <td>5.73</td>\n",
       "      <td>0.239655</td>\n",
       "      <td>0.061927</td>\n",
       "      <td>0.296219</td>\n",
       "      <td>0.078736</td>\n",
       "      <td>0.0573</td>\n",
       "    </tr>\n",
       "    <tr>\n",
       "      <td>6</td>\n",
       "      <td>2010</td>\n",
       "      <td>5.18</td>\n",
       "      <td>20.160000</td>\n",
       "      <td>149.087500</td>\n",
       "      <td>540.551667</td>\n",
       "      <td>5.490</td>\n",
       "      <td>6.77</td>\n",
       "      <td>0.396832</td>\n",
       "      <td>0.164341</td>\n",
       "      <td>0.595856</td>\n",
       "      <td>0.203927</td>\n",
       "      <td>0.0677</td>\n",
       "    </tr>\n",
       "    <tr>\n",
       "      <td>7</td>\n",
       "      <td>2015</td>\n",
       "      <td>3.61</td>\n",
       "      <td>14.682500</td>\n",
       "      <td>96.320000</td>\n",
       "      <td>486.714167</td>\n",
       "      <td>3.930</td>\n",
       "      <td>6.91</td>\n",
       "      <td>0.289013</td>\n",
       "      <td>0.106175</td>\n",
       "      <td>0.536510</td>\n",
       "      <td>0.142119</td>\n",
       "      <td>0.0691</td>\n",
       "    </tr>\n",
       "  </tbody>\n",
       "</table>\n",
       "</div>"
      ],
      "text/plain": [
       "   Year  Corn $/bu  Starch $/cwt  Gluten feed $/ton  Gluten meal $/ton  \\\n",
       "0  1980       3.11     13.093333         108.500000         260.000000   \n",
       "1  1985       2.23      9.685833          86.166667         209.112500   \n",
       "2  1990       2.28     11.019167          98.956667         241.016667   \n",
       "3  1995       3.24     15.975000         119.312500         325.962500   \n",
       "4  2000       1.85     12.435000          60.546667         252.021667   \n",
       "5  2005       2.00     12.175000          56.179167         268.725833   \n",
       "6  2010       5.18     20.160000         149.087500         540.551667   \n",
       "7  2015       3.61     14.682500          96.320000         486.714167   \n",
       "\n",
       "   Natural gas $/MBTU  Electricity cents/kwh  Starch $/kg  Gluten feed $/kg  \\\n",
       "0               1.695                   3.70     0.257731          0.119601   \n",
       "1               2.750                   4.97     0.190657          0.094982   \n",
       "2               2.415                   4.74     0.216903          0.109081   \n",
       "3               3.590                   4.66     0.314454          0.131519   \n",
       "4               4.450                   4.64     0.244772          0.066741   \n",
       "5               8.560                   5.73     0.239655          0.061927   \n",
       "6               5.490                   6.77     0.396832          0.164341   \n",
       "7               3.930                   6.91     0.289013          0.106175   \n",
       "\n",
       "   Gluten meal $/ton.1  Corn $/kg  Electricity $/kwh  \n",
       "0             0.286601   0.122435             0.0370  \n",
       "1             0.230507   0.087791             0.0497  \n",
       "2             0.265675   0.089760             0.0474  \n",
       "3             0.359312   0.127553             0.0466  \n",
       "4             0.277806   0.072831             0.0464  \n",
       "5             0.296219   0.078736             0.0573  \n",
       "6             0.595856   0.203927             0.0677  \n",
       "7             0.536510   0.142119             0.0691  "
      ]
     },
     "execution_count": 9,
     "metadata": {},
     "output_type": "execute_result"
    }
   ],
   "source": [
    "inputd"
   ]
  },
  {
   "cell_type": "code",
   "execution_count": 10,
   "metadata": {},
   "outputs": [],
   "source": [
    "Outputd = pd.read_excel(r'S2.xlsx', sheet_name = 'Output value')"
   ]
  },
  {
   "cell_type": "code",
   "execution_count": 11,
   "metadata": {},
   "outputs": [
    {
     "data": {
      "text/html": [
       "<div>\n",
       "<style scoped>\n",
       "    .dataframe tbody tr th:only-of-type {\n",
       "        vertical-align: middle;\n",
       "    }\n",
       "\n",
       "    .dataframe tbody tr th {\n",
       "        vertical-align: top;\n",
       "    }\n",
       "\n",
       "    .dataframe thead th {\n",
       "        text-align: right;\n",
       "    }\n",
       "</style>\n",
       "<table border=\"1\" class=\"dataframe\">\n",
       "  <thead>\n",
       "    <tr style=\"text-align: right;\">\n",
       "      <th></th>\n",
       "      <th>Year</th>\n",
       "      <th>Gross Margin %</th>\n",
       "      <th>ROI %</th>\n",
       "      <th>Payback time</th>\n",
       "    </tr>\n",
       "  </thead>\n",
       "  <tbody>\n",
       "    <tr>\n",
       "      <td>0</td>\n",
       "      <td>1980</td>\n",
       "      <td>26.56</td>\n",
       "      <td>42.85</td>\n",
       "      <td>2.33</td>\n",
       "    </tr>\n",
       "    <tr>\n",
       "      <td>1</td>\n",
       "      <td>1985</td>\n",
       "      <td>26.22</td>\n",
       "      <td>35.18</td>\n",
       "      <td>2.84</td>\n",
       "    </tr>\n",
       "    <tr>\n",
       "      <td>2</td>\n",
       "      <td>1990</td>\n",
       "      <td>33.49</td>\n",
       "      <td>46.11</td>\n",
       "      <td>2.17</td>\n",
       "    </tr>\n",
       "    <tr>\n",
       "      <td>3</td>\n",
       "      <td>1995</td>\n",
       "      <td>34.76</td>\n",
       "      <td>61.08</td>\n",
       "      <td>1.64</td>\n",
       "    </tr>\n",
       "    <tr>\n",
       "      <td>4</td>\n",
       "      <td>2000</td>\n",
       "      <td>44.68</td>\n",
       "      <td>60.52</td>\n",
       "      <td>1.65</td>\n",
       "    </tr>\n",
       "    <tr>\n",
       "      <td>5</td>\n",
       "      <td>2005</td>\n",
       "      <td>37.44</td>\n",
       "      <td>51.73</td>\n",
       "      <td>1.93</td>\n",
       "    </tr>\n",
       "    <tr>\n",
       "      <td>6</td>\n",
       "      <td>2010</td>\n",
       "      <td>22.12</td>\n",
       "      <td>51.40</td>\n",
       "      <td>1.95</td>\n",
       "    </tr>\n",
       "    <tr>\n",
       "      <td>7</td>\n",
       "      <td>2015</td>\n",
       "      <td>24.88</td>\n",
       "      <td>45.26</td>\n",
       "      <td>2.21</td>\n",
       "    </tr>\n",
       "  </tbody>\n",
       "</table>\n",
       "</div>"
      ],
      "text/plain": [
       "   Year  Gross Margin %  ROI %  Payback time\n",
       "0  1980           26.56  42.85          2.33\n",
       "1  1985           26.22  35.18          2.84\n",
       "2  1990           33.49  46.11          2.17\n",
       "3  1995           34.76  61.08          1.64\n",
       "4  2000           44.68  60.52          1.65\n",
       "5  2005           37.44  51.73          1.93\n",
       "6  2010           22.12  51.40          1.95\n",
       "7  2015           24.88  45.26          2.21"
      ]
     },
     "execution_count": 11,
     "metadata": {},
     "output_type": "execute_result"
    }
   ],
   "source": [
    "Outputd"
   ]
  },
  {
   "cell_type": "code",
   "execution_count": 16,
   "metadata": {},
   "outputs": [
    {
     "data": {
      "text/html": [
       "<div>\n",
       "<style scoped>\n",
       "    .dataframe tbody tr th:only-of-type {\n",
       "        vertical-align: middle;\n",
       "    }\n",
       "\n",
       "    .dataframe tbody tr th {\n",
       "        vertical-align: top;\n",
       "    }\n",
       "\n",
       "    .dataframe thead th {\n",
       "        text-align: right;\n",
       "    }\n",
       "</style>\n",
       "<table border=\"1\" class=\"dataframe\">\n",
       "  <thead>\n",
       "    <tr style=\"text-align: right;\">\n",
       "      <th></th>\n",
       "      <th>Year</th>\n",
       "      <th>Corn $/bu</th>\n",
       "      <th>Starch $/cwt</th>\n",
       "      <th>Gluten feed $/ton</th>\n",
       "      <th>Gluten meal $/ton</th>\n",
       "      <th>Natural gas $/MBTU</th>\n",
       "      <th>Electricity cents/kwh</th>\n",
       "      <th>Starch $/kg</th>\n",
       "      <th>Gluten feed $/kg</th>\n",
       "      <th>Gluten meal $/ton.1</th>\n",
       "      <th>Corn $/kg</th>\n",
       "      <th>Electricity $/kwh</th>\n",
       "      <th>Gross Margin %</th>\n",
       "      <th>ROI %</th>\n",
       "      <th>Payback time</th>\n",
       "    </tr>\n",
       "  </thead>\n",
       "  <tbody>\n",
       "    <tr>\n",
       "      <td>0</td>\n",
       "      <td>1980</td>\n",
       "      <td>3.11</td>\n",
       "      <td>13.093333</td>\n",
       "      <td>108.500000</td>\n",
       "      <td>260.000000</td>\n",
       "      <td>1.695</td>\n",
       "      <td>3.70</td>\n",
       "      <td>0.257731</td>\n",
       "      <td>0.119601</td>\n",
       "      <td>0.286601</td>\n",
       "      <td>0.122435</td>\n",
       "      <td>0.0370</td>\n",
       "      <td>26.56</td>\n",
       "      <td>42.85</td>\n",
       "      <td>2.33</td>\n",
       "    </tr>\n",
       "    <tr>\n",
       "      <td>1</td>\n",
       "      <td>1985</td>\n",
       "      <td>2.23</td>\n",
       "      <td>9.685833</td>\n",
       "      <td>86.166667</td>\n",
       "      <td>209.112500</td>\n",
       "      <td>2.750</td>\n",
       "      <td>4.97</td>\n",
       "      <td>0.190657</td>\n",
       "      <td>0.094982</td>\n",
       "      <td>0.230507</td>\n",
       "      <td>0.087791</td>\n",
       "      <td>0.0497</td>\n",
       "      <td>26.22</td>\n",
       "      <td>35.18</td>\n",
       "      <td>2.84</td>\n",
       "    </tr>\n",
       "    <tr>\n",
       "      <td>2</td>\n",
       "      <td>1990</td>\n",
       "      <td>2.28</td>\n",
       "      <td>11.019167</td>\n",
       "      <td>98.956667</td>\n",
       "      <td>241.016667</td>\n",
       "      <td>2.415</td>\n",
       "      <td>4.74</td>\n",
       "      <td>0.216903</td>\n",
       "      <td>0.109081</td>\n",
       "      <td>0.265675</td>\n",
       "      <td>0.089760</td>\n",
       "      <td>0.0474</td>\n",
       "      <td>33.49</td>\n",
       "      <td>46.11</td>\n",
       "      <td>2.17</td>\n",
       "    </tr>\n",
       "    <tr>\n",
       "      <td>3</td>\n",
       "      <td>1995</td>\n",
       "      <td>3.24</td>\n",
       "      <td>15.975000</td>\n",
       "      <td>119.312500</td>\n",
       "      <td>325.962500</td>\n",
       "      <td>3.590</td>\n",
       "      <td>4.66</td>\n",
       "      <td>0.314454</td>\n",
       "      <td>0.131519</td>\n",
       "      <td>0.359312</td>\n",
       "      <td>0.127553</td>\n",
       "      <td>0.0466</td>\n",
       "      <td>34.76</td>\n",
       "      <td>61.08</td>\n",
       "      <td>1.64</td>\n",
       "    </tr>\n",
       "    <tr>\n",
       "      <td>4</td>\n",
       "      <td>2000</td>\n",
       "      <td>1.85</td>\n",
       "      <td>12.435000</td>\n",
       "      <td>60.546667</td>\n",
       "      <td>252.021667</td>\n",
       "      <td>4.450</td>\n",
       "      <td>4.64</td>\n",
       "      <td>0.244772</td>\n",
       "      <td>0.066741</td>\n",
       "      <td>0.277806</td>\n",
       "      <td>0.072831</td>\n",
       "      <td>0.0464</td>\n",
       "      <td>44.68</td>\n",
       "      <td>60.52</td>\n",
       "      <td>1.65</td>\n",
       "    </tr>\n",
       "    <tr>\n",
       "      <td>5</td>\n",
       "      <td>2005</td>\n",
       "      <td>2.00</td>\n",
       "      <td>12.175000</td>\n",
       "      <td>56.179167</td>\n",
       "      <td>268.725833</td>\n",
       "      <td>8.560</td>\n",
       "      <td>5.73</td>\n",
       "      <td>0.239655</td>\n",
       "      <td>0.061927</td>\n",
       "      <td>0.296219</td>\n",
       "      <td>0.078736</td>\n",
       "      <td>0.0573</td>\n",
       "      <td>37.44</td>\n",
       "      <td>51.73</td>\n",
       "      <td>1.93</td>\n",
       "    </tr>\n",
       "    <tr>\n",
       "      <td>6</td>\n",
       "      <td>2010</td>\n",
       "      <td>5.18</td>\n",
       "      <td>20.160000</td>\n",
       "      <td>149.087500</td>\n",
       "      <td>540.551667</td>\n",
       "      <td>5.490</td>\n",
       "      <td>6.77</td>\n",
       "      <td>0.396832</td>\n",
       "      <td>0.164341</td>\n",
       "      <td>0.595856</td>\n",
       "      <td>0.203927</td>\n",
       "      <td>0.0677</td>\n",
       "      <td>22.12</td>\n",
       "      <td>51.40</td>\n",
       "      <td>1.95</td>\n",
       "    </tr>\n",
       "    <tr>\n",
       "      <td>7</td>\n",
       "      <td>2015</td>\n",
       "      <td>3.61</td>\n",
       "      <td>14.682500</td>\n",
       "      <td>96.320000</td>\n",
       "      <td>486.714167</td>\n",
       "      <td>3.930</td>\n",
       "      <td>6.91</td>\n",
       "      <td>0.289013</td>\n",
       "      <td>0.106175</td>\n",
       "      <td>0.536510</td>\n",
       "      <td>0.142119</td>\n",
       "      <td>0.0691</td>\n",
       "      <td>24.88</td>\n",
       "      <td>45.26</td>\n",
       "      <td>2.21</td>\n",
       "    </tr>\n",
       "  </tbody>\n",
       "</table>\n",
       "</div>"
      ],
      "text/plain": [
       "   Year  Corn $/bu  Starch $/cwt  Gluten feed $/ton  Gluten meal $/ton  \\\n",
       "0  1980       3.11     13.093333         108.500000         260.000000   \n",
       "1  1985       2.23      9.685833          86.166667         209.112500   \n",
       "2  1990       2.28     11.019167          98.956667         241.016667   \n",
       "3  1995       3.24     15.975000         119.312500         325.962500   \n",
       "4  2000       1.85     12.435000          60.546667         252.021667   \n",
       "5  2005       2.00     12.175000          56.179167         268.725833   \n",
       "6  2010       5.18     20.160000         149.087500         540.551667   \n",
       "7  2015       3.61     14.682500          96.320000         486.714167   \n",
       "\n",
       "   Natural gas $/MBTU  Electricity cents/kwh  Starch $/kg  Gluten feed $/kg  \\\n",
       "0               1.695                   3.70     0.257731          0.119601   \n",
       "1               2.750                   4.97     0.190657          0.094982   \n",
       "2               2.415                   4.74     0.216903          0.109081   \n",
       "3               3.590                   4.66     0.314454          0.131519   \n",
       "4               4.450                   4.64     0.244772          0.066741   \n",
       "5               8.560                   5.73     0.239655          0.061927   \n",
       "6               5.490                   6.77     0.396832          0.164341   \n",
       "7               3.930                   6.91     0.289013          0.106175   \n",
       "\n",
       "   Gluten meal $/ton.1  Corn $/kg  Electricity $/kwh  Gross Margin %  ROI %  \\\n",
       "0             0.286601   0.122435             0.0370           26.56  42.85   \n",
       "1             0.230507   0.087791             0.0497           26.22  35.18   \n",
       "2             0.265675   0.089760             0.0474           33.49  46.11   \n",
       "3             0.359312   0.127553             0.0466           34.76  61.08   \n",
       "4             0.277806   0.072831             0.0464           44.68  60.52   \n",
       "5             0.296219   0.078736             0.0573           37.44  51.73   \n",
       "6             0.595856   0.203927             0.0677           22.12  51.40   \n",
       "7             0.536510   0.142119             0.0691           24.88  45.26   \n",
       "\n",
       "   Payback time  \n",
       "0          2.33  \n",
       "1          2.84  \n",
       "2          2.17  \n",
       "3          1.64  \n",
       "4          1.65  \n",
       "5          1.93  \n",
       "6          1.95  \n",
       "7          2.21  "
      ]
     },
     "metadata": {},
     "output_type": "display_data"
    },
    {
     "data": {
      "text/plain": [
       "Index(['Year', 'Corn $/bu', 'Starch $/cwt', 'Gluten feed $/ton',\n",
       "       'Gluten meal $/ton', 'Natural gas $/MBTU', 'Electricity cents/kwh',\n",
       "       'Starch $/kg', 'Gluten feed $/kg', 'Gluten meal $/ton.1', 'Corn $/kg',\n",
       "       'Electricity $/kwh', 'Gross Margin %', 'ROI %', 'Payback time'],\n",
       "      dtype='object')"
      ]
     },
     "execution_count": 16,
     "metadata": {},
     "output_type": "execute_result"
    }
   ],
   "source": [
    "df = pd.merge(inputd, Outputd)\n",
    "display(df)\n",
    "df.columns"
   ]
  },
  {
   "cell_type": "code",
   "execution_count": 20,
   "metadata": {},
   "outputs": [
    {
     "data": {
      "text/plain": [
       "<seaborn.axisgrid.PairGrid at 0x127dc6390>"
      ]
     },
     "execution_count": 20,
     "metadata": {},
     "output_type": "execute_result"
    },
    {
     "data": {
      "image/png": "[encoded data removed]",
      "text/plain": [
       "<Figure size 972x360 with 3 Axes>"
      ]
     },
     "metadata": {
      "needs_background": "light"
     },
     "output_type": "display_data"
    }
   ],
   "source": [
    "sns.pairplot(df, x_vars = ['Corn $/kg','Electricity $/kwh','Natural gas $/MBTU'], y_vars = 'Gross Margin %',height = 5, aspect=0.9)"
   ]
  },
  {
   "cell_type": "code",
   "execution_count": 25,
   "metadata": {},
   "outputs": [
    {
     "data": {
      "text/plain": [
       "<seaborn.axisgrid.PairGrid at 0x128dc0a10>"
      ]
     },
     "execution_count": 25,
     "metadata": {},
     "output_type": "execute_result"
    },
    {
     "data": {
      "image/png": "[encoded data removed]",
      "text/plain": [
       "<Figure size 972x360 with 3 Axes>"
      ]
     },
     "metadata": {
      "needs_background": "light"
     },
     "output_type": "display_data"
    }
   ],
   "source": [
    "sns.pairplot(df, x_vars = ['Starch $/kg','Gluten feed $/kg','Gluten meal $/ton.1'], y_vars = 'Gross Margin %',height = 5, aspect=0.9)"
   ]
  },
  {
   "cell_type": "code",
   "execution_count": 22,
   "metadata": {},
   "outputs": [
    {
     "data": {
      "text/plain": [
       "<seaborn.axisgrid.PairGrid at 0x1281ebfd0>"
      ]
     },
     "execution_count": 22,
     "metadata": {},
     "output_type": "execute_result"
    },
    {
     "data": {
      "image/png": "[encoded data removed]",
      "text/plain": [
       "<Figure size 972x360 with 3 Axes>"
      ]
     },
     "metadata": {
      "needs_background": "light"
     },
     "output_type": "display_data"
    }
   ],
   "source": [
    "sns.pairplot(df, x_vars = ['Corn $/kg','Electricity $/kwh','Natural gas $/MBTU'], y_vars = 'ROI %',height = 5, aspect=0.9)"
   ]
  },
  {
   "cell_type": "code",
   "execution_count": 23,
   "metadata": {},
   "outputs": [
    {
     "data": {
      "text/plain": [
       "<seaborn.axisgrid.PairGrid at 0x1289b6790>"
      ]
     },
     "execution_count": 23,
     "metadata": {},
     "output_type": "execute_result"
    },
    {
     "data": {
      "image/png": "[encoded data removed]",
      "text/plain": [
       "<Figure size 972x360 with 3 Axes>"
      ]
     },
     "metadata": {
      "needs_background": "light"
     },
     "output_type": "display_data"
    }
   ],
   "source": [
    "sns.pairplot(df, x_vars = ['Starch $/kg','Gluten feed $/kg','Gluten meal $/ton.1'], y_vars = 'ROI %',height = 5, aspect=0.9)"
   ]
  },
  {
   "cell_type": "code",
   "execution_count": null,
   "metadata": {},
   "outputs": [],
   "source": []
  }
 ],
 "metadata": {
  "kernelspec": {
   "display_name": "Python 3",
   "language": "python",
   "name": "python3"
  },
  "language_info": {
   "codemirror_mode": {
    "name": "ipython",
    "version": 3
   },
   "file_extension": ".py",
   "mimetype": "text/x-python",
   "name": "python",
   "nbconvert_exporter": "python",
   "pygments_lexer": "ipython3",
   "version": "3.7.4"
  }
 },
 "nbformat": 4,
 "nbformat_minor": 2
}
